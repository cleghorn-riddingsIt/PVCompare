{
 "cells": [
  {
   "cell_type": "code",
   "execution_count": 5,
   "metadata": {},
   "outputs": [
    {
     "name": "stdout",
     "output_type": "stream",
     "text": [
      "  TAG,type,name,description,parents,tagnumber,pandid,purpose,maintainablegroup,hazardousareaclassification,links,groups,_version,_ancestors,_haschildren,_hascycle,_isorphaned,_groupAssociations,_source\n",
      "0  1350-1,5-WG-554-0-327-FC11,equipment,\"1350-1,5...                                                                                                                                                     \n",
      "1  1350-12-GN-525-0-303-DC91,equipment,1350-12-GN...                                                                                                                                                     \n",
      "2  1350-1-AP-563-0-328-GG12,equipment,1350-1-AP-5...                                                                                                                                                     \n",
      "3  1350-1-AP-563-0-329-GG12,equipment,1350-1-AP-5...                                                                                                                                                     \n",
      "4  1350-1-FO-571-0-301-AC02,equipment,1350-1-FO-5...                                                                                                                                                     \n",
      "5  1350-577-GE-0658,equipment,1350-577-GE-0658,RE...                                                                                                                                                     \n",
      "  MaintPlant,TAG,FunctLocCat.,Description,SupFunctLoc.,Location,System,ABC Indic.,System status,User status\n",
      "0  1350,\"1350-1,5-GN-545-0-329-CC93\",P,DRAIN MOTO...                                                       \n",
      "1  1350,\"1350-1,5-GN-545-0-331-CC93\",P,DRAIN MOTO...                                                       \n",
      "2  1350,\"1350-1,5-GN-545-0-357-CC93\",P,SUPPLY 527...                                                       \n",
      "3  1350,\"1350-1,5-GN-545-0-359-CC93\",P,SUPPLY 527...                                                       \n",
      "4  1350,\"1350-1,5-GN-545-0-361-CC93\",P,SUPPLY 527...                                                       \n",
      "5  1350,\"1350-1,5-WG-554-0-327-FC11\",P,BYPASS 554...                                                       \n",
      "6  1350,1350-1-AP-563-0-329-GG12,P,FROM 563KB300B...                                                       \n",
      "7  1350,1350-1-FO-571-0-301-AC02,P,INLET 571PA303...                                                       \n",
      "8  1350,1350-12-GN-525-0-303-DC91,P,KICKER LINE,1...                                                       \n",
      "9  1350,1350-577-GE-0658,R,REGISTER INLET EXTRACT...                                                       \n"
     ]
    }
   ],
   "source": [
    "import pandas as pd\n",
    "\n",
    "infile=[\"pv-sheet.csv\"]\n",
    "cfile = [\"sap-sheet.csv\"]\n",
    "\n",
    "def getdatafile(datafiles):\n",
    "    dataframe=pd.DataFrame()\n",
    "    dfs=[]\n",
    "    try:\n",
    "        #expects an array of files\n",
    "        for datafile in datafiles: \n",
    "            tmpdf=pd.read_csv(datafile, na_values=[' '],keep_default_na=False,dtype=str, sep=\";\")\n",
    "            if len(tmpdf)>0:\n",
    "                dfs.append(tmpdf)\n",
    "                dataframe=pd.concat(dfs)\n",
    "    except Exception as err:  \n",
    "        print(f'Failed getting input file {datafile}')\n",
    "        print(err)\n",
    "    return dataframe\n",
    "\n",
    "df=getdatafile(infile)\n",
    "print(df)\n",
    "sapdf = getdatafile(cfile)\n",
    "print(sapdf)"
   ]
  },
  {
   "cell_type": "code",
   "execution_count": 7,
   "metadata": {},
   "outputs": [
    {
     "name": "stdout",
     "output_type": "stream",
     "text": [
      "'TAG'\n"
     ]
    }
   ],
   "source": [
    "def comparedf(sapdf, permitVisionDf):\n",
    "    missingtags = []\n",
    "    try:\n",
    "        for index,row in permitVisionDf.iterrows():\n",
    "            lookup=sapdf.loc[sapdf['TAG'] == row['TAG']]\n",
    "            if lookup.empty==True:\n",
    "                missingtags.append(permitVisionDf.iloc[index])\n",
    "        print(f'{str(len(missingtags))} SPO tags missing from SAP')\n",
    "    except Exception as err:\n",
    "        print(err)\n",
    "\n",
    "        \n",
    "        \n",
    "\n",
    "comparedf(sapdf, df)"
   ]
  }
 ],
 "metadata": {
  "kernelspec": {
   "display_name": "base",
   "language": "python",
   "name": "python3"
  },
  "language_info": {
   "codemirror_mode": {
    "name": "ipython",
    "version": 3
   },
   "file_extension": ".py",
   "mimetype": "text/x-python",
   "name": "python",
   "nbconvert_exporter": "python",
   "pygments_lexer": "ipython3",
   "version": "3.9.13"
  },
  "orig_nbformat": 4,
  "vscode": {
   "interpreter": {
    "hash": "ad2bdc8ecc057115af97d19610ffacc2b4e99fae6737bb82f5d7fb13d2f2c186"
   }
  }
 },
 "nbformat": 4,
 "nbformat_minor": 2
}
